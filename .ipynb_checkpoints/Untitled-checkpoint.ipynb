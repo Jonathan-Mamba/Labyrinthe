{
 "cells": [
  {
   "cell_type": "code",
   "execution_count": 2,
   "id": "a72f3f4f-9cc4-44e6-ba7b-60eaf18d5277",
   "metadata": {},
   "outputs": [
    {
     "name": "stdout",
     "output_type": "stream",
     "text": [
      "pygame 2.5.2 (SDL 2.28.3, Python 3.12.1)\n",
      "Hello from the pygame community. https://www.pygame.org/contribute.html\n"
     ]
    }
   ],
   "source": [
    "import pygame\n",
    "from laby_generator import generate_lab"
   ]
  },
  {
   "cell_type": "code",
   "execution_count": null,
   "id": "44afe41b-077f-407d-aee4-f9ef9798cd5f",
   "metadata": {},
   "outputs": [],
   "source": [
    "pygame.init()\n",
    "pygame.display.set_mode((720, 540), pygame.DOUBLEBUF | pygame.HWSURFACE)\n",
    "pygame.display.Set"
   ]
  }
 ],
 "metadata": {
  "kernelspec": {
   "display_name": "Python 3 (ipykernel)",
   "language": "python",
   "name": "python3"
  },
  "language_info": {
   "codemirror_mode": {
    "name": "ipython",
    "version": 3
   },
   "file_extension": ".py",
   "mimetype": "text/x-python",
   "name": "python",
   "nbconvert_exporter": "python",
   "pygments_lexer": "ipython3",
   "version": "3.12.1"
  }
 },
 "nbformat": 4,
 "nbformat_minor": 5
}

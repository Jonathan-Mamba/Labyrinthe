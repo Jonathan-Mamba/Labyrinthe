{
 "cells": [
  {
   "cell_type": "code",
   "execution_count": 1,
   "id": "b14818f7-208b-4372-bb51-a257440a51df",
   "metadata": {},
   "outputs": [],
   "source": [
    "import random\n",
    "import numpy as np"
   ]
  },
  {
   "cell_type": "code",
   "execution_count": 2,
   "id": "eae8a07f-71cf-4f11-877e-08d4fbb30811",
   "metadata": {},
   "outputs": [],
   "source": [
    "type collection = list | tuple\n",
    "type point = list[int, int] | tuple[int, int]"
   ]
  },
  {
   "cell_type": "code",
   "execution_count": 3,
   "id": "61ce5ec0-0796-44cc-a123-054f367915f2",
   "metadata": {},
   "outputs": [],
   "source": [
    "def close_points(_point: point) -> list:\n",
    "    x, y = _point\n",
    "    return [\n",
    "        [x - 1, y],\n",
    "        [x + 1, y],\n",
    "        [x, y + 1],\n",
    "        [x, y - 1]\n",
    "    ]\n",
    "    "
   ]
  },
  {
   "cell_type": "code",
   "execution_count": 4,
   "id": "621155fa-cc2a-4964-8c6f-af70979aef38",
   "metadata": {},
   "outputs": [],
   "source": [
    "class LabWalker:\n",
    "    def __init__(self, start_point: point):\n",
    "        self.start_point: point = start_point\n",
    "        self.point_list : np.ndarray = np.array([[start_point[0], start_point[1]]])"
   ]
  },
  {
   "cell_type": "code",
   "execution_count": 5,
   "id": "ea97b746-05e8-4ca2-a277-33e5497b792d",
   "metadata": {},
   "outputs": [],
   "source": [
    "def is_inside(_point: point, _size: list[int, int]) -> bool:\n",
    "    return all(i[0] <= i[1] for i in zip(_point, _size))"
   ]
  },
  {
   "cell_type": "code",
   "execution_count": 6,
   "id": "9ebd6848-ccd9-42ef-81b3-5974dfac101d",
   "metadata": {},
   "outputs": [],
   "source": [
    "def calculate_next_point(point_list: np.ndarray, size: collection):\n",
    "    next_points = []\n",
    "    \n",
    "    for i in close_points(point_list[-1]):\n",
    "        if is_inside(i, size):\n",
    "            next_points.append(i)\n",
    "    if next_points == [] and point_list.size > 1:#si il y a aucun point disponible\n",
    "        print(\"recursion\") \n",
    "        next_points = calculate_next_point(point_list[0:-1], size)\n",
    "    return random.choice(next_points)\n",
    "    "
   ]
  },
  {
   "cell_type": "code",
   "execution_count": 7,
   "id": "ce643b9e-6454-4d14-b02b-6776da394503",
   "metadata": {},
   "outputs": [],
   "source": [
    "def calculate_lab(size: list[int, int], start_point: point = [0, 0]) -> list:\n",
    "    walker = LabWalker(start_point)\n",
    "    while walker.point_list.size < (size[0] * size[1]) - 1:\n",
    "        np.append(walker.point_list, calculate_next_point(walker.point_list, size))\n",
    "    #return walker.point_list\n",
    "        "
   ]
  },
  {
   "cell_type": "code",
   "execution_count": null,
   "id": "037cf256-24f2-4496-b321-7c3d49f55eb4",
   "metadata": {},
   "outputs": [],
   "source": [
    "calculate_lab([3, 3], start_point=[1, 1])"
   ]
  },
  {
   "cell_type": "code",
   "execution_count": null,
   "id": "df7f30ef-7d8c-4b4e-80ff-db5001f0f90f",
   "metadata": {},
   "outputs": [],
   "source": [
    "walker = LabWalker((10, 10))\n",
    "print(walker.point_list)"
   ]
  },
  {
   "cell_type": "code",
   "execution_count": null,
   "id": "f11927e6",
   "metadata": {},
   "outputs": [],
   "source": []
  }
 ],
 "metadata": {
  "kernelspec": {
   "display_name": "Python 3 (ipykernel)",
   "language": "python",
   "name": "python3"
  },
  "language_info": {
   "codemirror_mode": {
    "name": "ipython",
    "version": 3
   },
   "file_extension": ".py",
   "mimetype": "text/x-python",
   "name": "python",
   "nbconvert_exporter": "python",
   "pygments_lexer": "ipython3",
   "version": "3.12.1"
  }
 },
 "nbformat": 4,
 "nbformat_minor": 5
}
